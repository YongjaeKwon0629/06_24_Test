{
  "nbformat": 4,
  "nbformat_minor": 0,
  "metadata": {
    "colab": {
      "provenance": [],
      "gpuType": "T4",
      "authorship_tag": "ABX9TyMA++HXowqDDs9hL2QI+xA0",
      "include_colab_link": true
    },
    "kernelspec": {
      "name": "python3",
      "display_name": "Python 3"
    },
    "language_info": {
      "name": "python"
    },
    "accelerator": "GPU"
  },
  "cells": [
    {
      "cell_type": "markdown",
      "metadata": {
        "id": "view-in-github",
        "colab_type": "text"
      },
      "source": [
        "<a href=\"https://colab.research.google.com/github/YongjaeKwon0629/06_24_Test/blob/main/06_23_colab_test.ipynb\" target=\"_parent\"><img src=\"https://colab.research.google.com/assets/colab-badge.svg\" alt=\"Open In Colab\"/></a>"
      ]
    },
    {
      "cell_type": "code",
      "execution_count": 23,
      "metadata": {
        "colab": {
          "base_uri": "https://localhost:8080/"
        },
        "id": "JuiXCRw_eX-7",
        "outputId": "b6cdd7f6-30d0-4652-f6b0-211a06b1eaa3"
      },
      "outputs": [
        {
          "output_type": "stream",
          "name": "stdout",
          "text": [
            "Hello, World!\n"
          ]
        }
      ],
      "source": [
        "print(\"Hello, World!\")"
      ]
    },
    {
      "cell_type": "code",
      "source": [
        "x = 5\n",
        "y = \"John\"\n",
        "print(x)\n",
        "print(y)"
      ],
      "metadata": {
        "colab": {
          "base_uri": "https://localhost:8080/"
        },
        "id": "mk-k2ZqrfWML",
        "outputId": "32540c3e-c9b3-46f1-a26a-3a4591d1a6c1"
      },
      "execution_count": 24,
      "outputs": [
        {
          "output_type": "stream",
          "name": "stdout",
          "text": [
            "5\n",
            "John\n"
          ]
        }
      ]
    },
    {
      "cell_type": "code",
      "source": [
        "x = 4       # x is of type int\n",
        "x = \"Sally\" # x is now of type str\n",
        "print(x)"
      ],
      "metadata": {
        "colab": {
          "base_uri": "https://localhost:8080/"
        },
        "id": "Vdvy-LpVgWPQ",
        "outputId": "28191b96-8a38-49a7-bece-b662f1d5a6ca"
      },
      "execution_count": 25,
      "outputs": [
        {
          "output_type": "stream",
          "name": "stdout",
          "text": [
            "Sally\n"
          ]
        }
      ]
    },
    {
      "cell_type": "code",
      "source": [
        "x = str(3)\n",
        "y = int(3)\n",
        "z = float(3)"
      ],
      "metadata": {
        "id": "Ahe8JGkOgZnh"
      },
      "execution_count": 26,
      "outputs": []
    },
    {
      "cell_type": "code",
      "source": [
        "x = 5\n",
        "y = \"John\"\n",
        "print(type(x))\n",
        "print(type(y))"
      ],
      "metadata": {
        "colab": {
          "base_uri": "https://localhost:8080/"
        },
        "id": "LPWqhG7SgnQ-",
        "outputId": "e8aef8e0-3ccc-489b-b1ea-f3562786b549"
      },
      "execution_count": 27,
      "outputs": [
        {
          "output_type": "stream",
          "name": "stdout",
          "text": [
            "<class 'int'>\n",
            "<class 'str'>\n"
          ]
        }
      ]
    },
    {
      "cell_type": "code",
      "source": [
        "x = \"John\"\n",
        "# is the same as\n",
        "x = 'John'"
      ],
      "metadata": {
        "id": "f7WsLXWBgpEV"
      },
      "execution_count": 28,
      "outputs": []
    },
    {
      "cell_type": "code",
      "source": [
        "a = 4\n",
        "A = \"Sally\""
      ],
      "metadata": {
        "id": "I9uR0J51g1Bj"
      },
      "execution_count": 29,
      "outputs": []
    },
    {
      "cell_type": "code",
      "source": [
        "myvar = \"John\"\n",
        "my_var = \"John\"\n",
        "_my_var = \"John\"\n",
        "myVar = \"John\"\n",
        "MYVAR = \"John\"\n",
        "myvar2 = \"John\""
      ],
      "metadata": {
        "id": "0SNW4n-sg51z"
      },
      "execution_count": 30,
      "outputs": []
    },
    {
      "cell_type": "code",
      "source": [
        "x = y = z = \"Orange\"\n",
        "print(x)\n",
        "print(y)\n",
        "print(z)"
      ],
      "metadata": {
        "colab": {
          "base_uri": "https://localhost:8080/"
        },
        "id": "B8OsH0aPhD8H",
        "outputId": "21f99645-8893-4261-e59a-11436d5e2cfb"
      },
      "execution_count": 31,
      "outputs": [
        {
          "output_type": "stream",
          "name": "stdout",
          "text": [
            "Orange\n",
            "Orange\n",
            "Orange\n"
          ]
        }
      ]
    },
    {
      "cell_type": "code",
      "source": [
        "fruits = [\"apple\", \"banana\", \"cherry\"]\n",
        "x, y, z = fruits\n",
        "print(x)\n",
        "print(y)\n",
        "print(z)"
      ],
      "metadata": {
        "colab": {
          "base_uri": "https://localhost:8080/"
        },
        "id": "b-JD5MlkhE0X",
        "outputId": "fffadc62-4b61-4e09-e3bd-ea33faf8912a"
      },
      "execution_count": 32,
      "outputs": [
        {
          "output_type": "stream",
          "name": "stdout",
          "text": [
            "apple\n",
            "banana\n",
            "cherry\n"
          ]
        }
      ]
    },
    {
      "cell_type": "code",
      "source": [
        "x = \"Python is awesome\"\n",
        "print(x)"
      ],
      "metadata": {
        "colab": {
          "base_uri": "https://localhost:8080/"
        },
        "id": "A3hgxCEZhH1j",
        "outputId": "2a92d54d-ae6d-445d-bf59-4d9589f32518"
      },
      "execution_count": 33,
      "outputs": [
        {
          "output_type": "stream",
          "name": "stdout",
          "text": [
            "Python is awesome\n"
          ]
        }
      ]
    },
    {
      "cell_type": "code",
      "source": [
        "x = \"Python\"\n",
        "y = \"is\"\n",
        "z = \"awesome\"\n",
        "print(x, y, z)"
      ],
      "metadata": {
        "colab": {
          "base_uri": "https://localhost:8080/"
        },
        "id": "HbnqRCxNhMVz",
        "outputId": "9f63c0e0-2d8e-4d01-a6b1-8e74e88db709"
      },
      "execution_count": 34,
      "outputs": [
        {
          "output_type": "stream",
          "name": "stdout",
          "text": [
            "Python is awesome\n"
          ]
        }
      ]
    },
    {
      "cell_type": "code",
      "source": [
        "x = \"Python \"\n",
        "y = \"is \"\n",
        "z = \"awesome\"\n",
        "print(x + y + z)"
      ],
      "metadata": {
        "colab": {
          "base_uri": "https://localhost:8080/"
        },
        "id": "4BWXAYwphQqX",
        "outputId": "eb523f12-715d-4a1f-fa51-4f98c72f98e4"
      },
      "execution_count": 35,
      "outputs": [
        {
          "output_type": "stream",
          "name": "stdout",
          "text": [
            "Python is awesome\n"
          ]
        }
      ]
    },
    {
      "cell_type": "code",
      "source": [
        "x = 5\n",
        "y = 10\n",
        "print(x + y)"
      ],
      "metadata": {
        "colab": {
          "base_uri": "https://localhost:8080/"
        },
        "id": "R3EXWiRhhSSu",
        "outputId": "d0f697f7-71b6-4c75-ab8a-9075b56a8bde"
      },
      "execution_count": 36,
      "outputs": [
        {
          "output_type": "stream",
          "name": "stdout",
          "text": [
            "15\n"
          ]
        }
      ]
    },
    {
      "cell_type": "code",
      "source": [
        "x = 5\n",
        "y = \"John\"\n",
        "print(x, y)"
      ],
      "metadata": {
        "colab": {
          "base_uri": "https://localhost:8080/"
        },
        "id": "PRYp16MDhT5u",
        "outputId": "98ed326e-d062-4d85-f0e6-f4178299b27c"
      },
      "execution_count": 37,
      "outputs": [
        {
          "output_type": "stream",
          "name": "stdout",
          "text": [
            "5 John\n"
          ]
        }
      ]
    },
    {
      "cell_type": "code",
      "source": [
        "x = \"awesome\"\n",
        "\n",
        "def myfunc():\n",
        "  print(\"Python is \" + x)\n",
        "\n",
        "myfunc()"
      ],
      "metadata": {
        "colab": {
          "base_uri": "https://localhost:8080/"
        },
        "id": "UaJVKAfahYeW",
        "outputId": "10837799-9950-4709-9059-44696c3fc0e3"
      },
      "execution_count": 38,
      "outputs": [
        {
          "output_type": "stream",
          "name": "stdout",
          "text": [
            "Python is awesome\n"
          ]
        }
      ]
    },
    {
      "cell_type": "code",
      "source": [
        "x = \"awesome\"\n",
        "\n",
        "def myfunc():\n",
        "  x = \"fantastic\"\n",
        "  print(\"Python is \" + x)\n",
        "\n",
        "myfunc()\n",
        "\n",
        "print(\"Python is \" + x)"
      ],
      "metadata": {
        "colab": {
          "base_uri": "https://localhost:8080/"
        },
        "id": "_eqx-W5thbh6",
        "outputId": "d3fd370f-7264-4111-eec7-139e71d4ee9d"
      },
      "execution_count": 39,
      "outputs": [
        {
          "output_type": "stream",
          "name": "stdout",
          "text": [
            "Python is fantastic\n",
            "Python is awesome\n"
          ]
        }
      ]
    },
    {
      "cell_type": "code",
      "source": [
        "def myfunc():\n",
        "  global x\n",
        "  x = \"fantastic\"\n",
        "\n",
        "myfunc()\n",
        "\n",
        "print(\"Python is \" + x)"
      ],
      "metadata": {
        "colab": {
          "base_uri": "https://localhost:8080/"
        },
        "id": "FQJLqxGIhdzu",
        "outputId": "d7fcfb04-278f-4ba8-9109-fabf169b07eb"
      },
      "execution_count": 40,
      "outputs": [
        {
          "output_type": "stream",
          "name": "stdout",
          "text": [
            "Python is fantastic\n"
          ]
        }
      ]
    },
    {
      "cell_type": "code",
      "source": [
        "x = \"awesome\"\n",
        "\n",
        "def myfunc():\n",
        "  global x\n",
        "  x = \"fantastic\"\n",
        "\n",
        "myfunc()\n",
        "\n",
        "print(\"Python is \" + x)"
      ],
      "metadata": {
        "colab": {
          "base_uri": "https://localhost:8080/"
        },
        "id": "PFALH5YjhtiG",
        "outputId": "c56146bd-efa0-4d96-c6d2-1ac4189ec81b"
      },
      "execution_count": 41,
      "outputs": [
        {
          "output_type": "stream",
          "name": "stdout",
          "text": [
            "Python is fantastic\n"
          ]
        }
      ]
    },
    {
      "cell_type": "code",
      "source": [
        "x = 5\n",
        "print(type(x))"
      ],
      "metadata": {
        "id": "pM2PWdjWijjm",
        "colab": {
          "base_uri": "https://localhost:8080/"
        },
        "outputId": "4a15d25b-185e-4b3c-a794-711c5ec5ad08"
      },
      "execution_count": 42,
      "outputs": [
        {
          "output_type": "stream",
          "name": "stdout",
          "text": [
            "<class 'int'>\n"
          ]
        }
      ]
    },
    {
      "cell_type": "code",
      "source": [
        "x = 1    # int\n",
        "y = 2.8  # float\n",
        "z = 1j   # complex"
      ],
      "metadata": {
        "id": "XeAfXnvNikmv"
      },
      "execution_count": 43,
      "outputs": []
    },
    {
      "cell_type": "code",
      "source": [
        "x = 1    # int\n",
        "y = 2.8  # float\n",
        "z = 1j   # complex\n",
        "print(type(x))\n",
        "print(type(y))\n",
        "print(type(z))"
      ],
      "metadata": {
        "colab": {
          "base_uri": "https://localhost:8080/"
        },
        "id": "ASwmR6DGintQ",
        "outputId": "8d7d3cdd-4bb1-456c-e670-0eb09c1911ea"
      },
      "execution_count": 44,
      "outputs": [
        {
          "output_type": "stream",
          "name": "stdout",
          "text": [
            "<class 'int'>\n",
            "<class 'float'>\n",
            "<class 'complex'>\n"
          ]
        }
      ]
    },
    {
      "cell_type": "code",
      "source": [
        "x = 1\n",
        "y = 35656222554887711\n",
        "z = -3255522\n",
        "\n",
        "print(type(x))\n",
        "print(type(y))\n",
        "print(type(z))"
      ],
      "metadata": {
        "colab": {
          "base_uri": "https://localhost:8080/"
        },
        "id": "1Vay2C9IiuA_",
        "outputId": "e84846b3-498b-4d81-8a10-ca84b3369c9e"
      },
      "execution_count": 45,
      "outputs": [
        {
          "output_type": "stream",
          "name": "stdout",
          "text": [
            "<class 'int'>\n",
            "<class 'int'>\n",
            "<class 'int'>\n"
          ]
        }
      ]
    },
    {
      "cell_type": "code",
      "source": [
        "x = 1.10\n",
        "y = 1.0\n",
        "z = -35.59\n",
        "\n",
        "print(type(x))\n",
        "print(type(y))\n",
        "print(type(z))"
      ],
      "metadata": {
        "colab": {
          "base_uri": "https://localhost:8080/"
        },
        "id": "iGZo2Vlkiu0T",
        "outputId": "446830a2-2a1a-4338-86c5-b963356a0f6d"
      },
      "execution_count": 46,
      "outputs": [
        {
          "output_type": "stream",
          "name": "stdout",
          "text": [
            "<class 'float'>\n",
            "<class 'float'>\n",
            "<class 'float'>\n"
          ]
        }
      ]
    },
    {
      "cell_type": "code",
      "source": [
        "x = 35e3\n",
        "y = 12E4\n",
        "z = -87.7e100\n",
        "\n",
        "print(type(x))\n",
        "print(type(y))\n",
        "print(type(z))"
      ],
      "metadata": {
        "colab": {
          "base_uri": "https://localhost:8080/"
        },
        "id": "IaYkk-8NixCe",
        "outputId": "f0d42399-fa84-4496-b299-409f9d97b57b"
      },
      "execution_count": 47,
      "outputs": [
        {
          "output_type": "stream",
          "name": "stdout",
          "text": [
            "<class 'float'>\n",
            "<class 'float'>\n",
            "<class 'float'>\n"
          ]
        }
      ]
    },
    {
      "cell_type": "code",
      "source": [
        "x = 3+5j\n",
        "y = 5j\n",
        "z = -5j\n",
        "\n",
        "print(type(x))\n",
        "print(type(y))\n",
        "print(type(z))"
      ],
      "metadata": {
        "colab": {
          "base_uri": "https://localhost:8080/"
        },
        "id": "V1BuZGIKizhI",
        "outputId": "54a08f96-33ad-4110-81a6-ebf71e378709"
      },
      "execution_count": 48,
      "outputs": [
        {
          "output_type": "stream",
          "name": "stdout",
          "text": [
            "<class 'complex'>\n",
            "<class 'complex'>\n",
            "<class 'complex'>\n"
          ]
        }
      ]
    },
    {
      "cell_type": "code",
      "source": [
        "x = 1    # int\n",
        "y = 2.8  # float\n",
        "z = 1j   # complex\n",
        "\n",
        "#convert from int to float:\n",
        "a = float(x)\n",
        "\n",
        "#convert from float to int:\n",
        "b = int(y)\n",
        "\n",
        "#convert from int to complex:\n",
        "c = complex(x)\n",
        "\n",
        "print(a)\n",
        "print(b)\n",
        "print(c)\n",
        "\n",
        "print(type(a))\n",
        "print(type(b))\n",
        "print(type(c))"
      ],
      "metadata": {
        "colab": {
          "base_uri": "https://localhost:8080/"
        },
        "id": "EceKgZxmi01D",
        "outputId": "bec691a1-42d6-4b6e-8bc4-81dd2b7d74d1"
      },
      "execution_count": 49,
      "outputs": [
        {
          "output_type": "stream",
          "name": "stdout",
          "text": [
            "1.0\n",
            "2\n",
            "(1+0j)\n",
            "<class 'float'>\n",
            "<class 'int'>\n",
            "<class 'complex'>\n"
          ]
        }
      ]
    },
    {
      "cell_type": "code",
      "source": [
        "import random\n",
        "\n",
        "print(random.randrange(1, 10))"
      ],
      "metadata": {
        "colab": {
          "base_uri": "https://localhost:8080/"
        },
        "id": "Bt1xZFlgi3Hf",
        "outputId": "182c52bc-ad73-48d9-bfd1-d05fa810636d"
      },
      "execution_count": 50,
      "outputs": [
        {
          "output_type": "stream",
          "name": "stdout",
          "text": [
            "8\n"
          ]
        }
      ]
    },
    {
      "cell_type": "code",
      "source": [
        "x = int(1)   # x will be 1\n",
        "y = int(2.8) # y will be 2\n",
        "z = int(\"3\") # z will be 3"
      ],
      "metadata": {
        "id": "REK__EzSi-68"
      },
      "execution_count": 51,
      "outputs": []
    },
    {
      "cell_type": "code",
      "source": [
        "x = float(1)     # x will be 1.0\n",
        "y = float(2.8)   # y will be 2.8\n",
        "z = float(\"3\")   # z will be 3.0\n",
        "w = float(\"4.2\") # w will be 4.2"
      ],
      "metadata": {
        "id": "66_YuImQjBUZ"
      },
      "execution_count": 52,
      "outputs": []
    },
    {
      "cell_type": "code",
      "source": [
        "x = str(\"s1\") # x will be 's1'\n",
        "y = str(2)    # y will be '2'\n",
        "z = str(3.0)  # z will be '3.0'"
      ],
      "metadata": {
        "id": "rZ8SoxcOjCu4"
      },
      "execution_count": 53,
      "outputs": []
    },
    {
      "cell_type": "code",
      "source": [
        "print(\"Hello\")\n",
        "print('Hello')"
      ],
      "metadata": {
        "colab": {
          "base_uri": "https://localhost:8080/"
        },
        "id": "qcilw6UpjFHL",
        "outputId": "c24af61a-fdf5-4728-d633-cfac02a38b17"
      },
      "execution_count": 54,
      "outputs": [
        {
          "output_type": "stream",
          "name": "stdout",
          "text": [
            "Hello\n",
            "Hello\n"
          ]
        }
      ]
    },
    {
      "cell_type": "code",
      "source": [
        "print(\"It's alright\")\n",
        "print(\"He is called 'Johnny'\")\n",
        "print('He is called \"Johnny\"')"
      ],
      "metadata": {
        "colab": {
          "base_uri": "https://localhost:8080/"
        },
        "id": "D7K85VDkjFzq",
        "outputId": "8456b0d2-9a5f-429c-b167-d0fc2dedacaa"
      },
      "execution_count": 55,
      "outputs": [
        {
          "output_type": "stream",
          "name": "stdout",
          "text": [
            "It's alright\n",
            "He is called 'Johnny'\n",
            "He is called \"Johnny\"\n"
          ]
        }
      ]
    },
    {
      "cell_type": "code",
      "source": [
        "a = \"Hello\"\n",
        "print(a)"
      ],
      "metadata": {
        "colab": {
          "base_uri": "https://localhost:8080/"
        },
        "id": "DKbED-ROjHkJ",
        "outputId": "d3e2c1a6-2bac-4488-d9de-b855b48d4ab4"
      },
      "execution_count": 56,
      "outputs": [
        {
          "output_type": "stream",
          "name": "stdout",
          "text": [
            "Hello\n"
          ]
        }
      ]
    },
    {
      "cell_type": "code",
      "source": [
        "a = \"\"\"Lorem ipsum dolor sit amet,\n",
        "consectetur adipiscing elit,\n",
        "sed do eiusmod tempor incididunt\n",
        "ut labore et dolore magna aliqua.\"\"\"\n",
        "print(a)"
      ],
      "metadata": {
        "colab": {
          "base_uri": "https://localhost:8080/"
        },
        "id": "qvNKZzoijJwK",
        "outputId": "ca78f96d-9dc4-4e82-b5b7-671e3795ff53"
      },
      "execution_count": 57,
      "outputs": [
        {
          "output_type": "stream",
          "name": "stdout",
          "text": [
            "Lorem ipsum dolor sit amet,\n",
            "consectetur adipiscing elit,\n",
            "sed do eiusmod tempor incididunt\n",
            "ut labore et dolore magna aliqua.\n"
          ]
        }
      ]
    },
    {
      "cell_type": "code",
      "source": [
        "a = '''Lorem ipsum dolor sit amet,\n",
        "consectetur adipiscing elit,\n",
        "sed do eiusmod tempor incididunt\n",
        "ut labore et dolore magna aliqua.'''\n",
        "print(a)"
      ],
      "metadata": {
        "colab": {
          "base_uri": "https://localhost:8080/"
        },
        "id": "aOWlD9nwjLyN",
        "outputId": "143d7039-3b6a-4027-d162-5fcf8cb7ca3d"
      },
      "execution_count": 58,
      "outputs": [
        {
          "output_type": "stream",
          "name": "stdout",
          "text": [
            "Lorem ipsum dolor sit amet,\n",
            "consectetur adipiscing elit,\n",
            "sed do eiusmod tempor incididunt\n",
            "ut labore et dolore magna aliqua.\n"
          ]
        }
      ]
    },
    {
      "cell_type": "code",
      "source": [
        "a = \"Hello, World!\"\n",
        "print(a[1])"
      ],
      "metadata": {
        "id": "MBwxJieJjNx0",
        "colab": {
          "base_uri": "https://localhost:8080/"
        },
        "outputId": "ab95d5b1-5cd5-4f6c-d3ca-08a9720e5325"
      },
      "execution_count": 59,
      "outputs": [
        {
          "output_type": "stream",
          "name": "stdout",
          "text": [
            "e\n"
          ]
        }
      ]
    },
    {
      "cell_type": "code",
      "source": [
        "for x in \"banana\":\n",
        "  print(x)"
      ],
      "metadata": {
        "colab": {
          "base_uri": "https://localhost:8080/"
        },
        "id": "Mo1_zoMKjPLB",
        "outputId": "be166e98-b7df-4023-ef03-2098f24f06af"
      },
      "execution_count": 60,
      "outputs": [
        {
          "output_type": "stream",
          "name": "stdout",
          "text": [
            "b\n",
            "a\n",
            "n\n",
            "a\n",
            "n\n",
            "a\n"
          ]
        }
      ]
    },
    {
      "cell_type": "code",
      "source": [
        "a = \"Hello, World!\"\n",
        "print(len(a))"
      ],
      "metadata": {
        "colab": {
          "base_uri": "https://localhost:8080/"
        },
        "id": "nHi6_gdPjRtp",
        "outputId": "e7c6f5a6-7b74-4227-ae4e-4ae5fca369e1"
      },
      "execution_count": 61,
      "outputs": [
        {
          "output_type": "stream",
          "name": "stdout",
          "text": [
            "13\n"
          ]
        }
      ]
    },
    {
      "cell_type": "code",
      "source": [
        "txt = \"The best things in life are free!\"\n",
        "print(\"free\" in txt)"
      ],
      "metadata": {
        "colab": {
          "base_uri": "https://localhost:8080/"
        },
        "id": "ZcdlIJR2jU56",
        "outputId": "cc767b9b-3131-43fe-9b88-76ef5e0af52a"
      },
      "execution_count": 62,
      "outputs": [
        {
          "output_type": "stream",
          "name": "stdout",
          "text": [
            "True\n"
          ]
        }
      ]
    },
    {
      "cell_type": "code",
      "source": [
        "txt = \"The best things in life are free!\"\n",
        "if \"free\" in txt:\n",
        "  print(\"Yes, 'free' is present.\")"
      ],
      "metadata": {
        "colab": {
          "base_uri": "https://localhost:8080/"
        },
        "id": "usJDNFX-jXWJ",
        "outputId": "419171a4-f832-4647-99aa-25cdd47fe41f"
      },
      "execution_count": 63,
      "outputs": [
        {
          "output_type": "stream",
          "name": "stdout",
          "text": [
            "Yes, 'free' is present.\n"
          ]
        }
      ]
    },
    {
      "cell_type": "code",
      "source": [
        "txt = \"The best things in life are free!\"\n",
        "print(\"expensive\" not in txt)"
      ],
      "metadata": {
        "colab": {
          "base_uri": "https://localhost:8080/"
        },
        "id": "uRun7WpTjZd8",
        "outputId": "036d9ad5-ffe0-42bb-a294-42b0b3f0ee13"
      },
      "execution_count": 64,
      "outputs": [
        {
          "output_type": "stream",
          "name": "stdout",
          "text": [
            "True\n"
          ]
        }
      ]
    },
    {
      "cell_type": "code",
      "source": [
        "txt = \"The best things in life are free!\"\n",
        "if \"expensive\" not in txt:\n",
        "  print(\"No, 'expensive' is NOT present.\")"
      ],
      "metadata": {
        "colab": {
          "base_uri": "https://localhost:8080/"
        },
        "id": "RSFAQjLQja8C",
        "outputId": "f46e4b66-cb5e-4b19-e215-5bdf0752261b"
      },
      "execution_count": 65,
      "outputs": [
        {
          "output_type": "stream",
          "name": "stdout",
          "text": [
            "No, 'expensive' is NOT present.\n"
          ]
        }
      ]
    },
    {
      "cell_type": "code",
      "source": [
        "b = \"Hello, World!\"\n",
        "print(b[2:5])"
      ],
      "metadata": {
        "colab": {
          "base_uri": "https://localhost:8080/"
        },
        "id": "PwrcwHtljvyp",
        "outputId": "5c4987e2-f03d-4e54-b2ea-a5bb7d39946d"
      },
      "execution_count": 66,
      "outputs": [
        {
          "output_type": "stream",
          "name": "stdout",
          "text": [
            "llo\n"
          ]
        }
      ]
    },
    {
      "cell_type": "code",
      "source": [
        "b = \"Hello, World!\"\n",
        "print(b[:5])"
      ],
      "metadata": {
        "colab": {
          "base_uri": "https://localhost:8080/"
        },
        "id": "jVKwwZWWj017",
        "outputId": "d05c01c6-77ce-4838-b62f-29a59ac58620"
      },
      "execution_count": 67,
      "outputs": [
        {
          "output_type": "stream",
          "name": "stdout",
          "text": [
            "Hello\n"
          ]
        }
      ]
    },
    {
      "cell_type": "code",
      "source": [
        "b = \"Hello, World!\"\n",
        "print(b[2:])"
      ],
      "metadata": {
        "colab": {
          "base_uri": "https://localhost:8080/"
        },
        "id": "scrQY1jYj2MQ",
        "outputId": "e45faafb-d0b6-4ddc-b827-3dbc75c12127"
      },
      "execution_count": 68,
      "outputs": [
        {
          "output_type": "stream",
          "name": "stdout",
          "text": [
            "llo, World!\n"
          ]
        }
      ]
    },
    {
      "cell_type": "code",
      "source": [
        "b = \"Hello, World!\"\n",
        "print(b[-5:-2])"
      ],
      "metadata": {
        "colab": {
          "base_uri": "https://localhost:8080/"
        },
        "id": "dSQVEWCAj3ge",
        "outputId": "7d383593-47f7-4f3e-91a5-23b759923e9e"
      },
      "execution_count": 69,
      "outputs": [
        {
          "output_type": "stream",
          "name": "stdout",
          "text": [
            "orl\n"
          ]
        }
      ]
    },
    {
      "cell_type": "code",
      "source": [
        "a = \"Hello, World!\"\n",
        "print(a.upper())"
      ],
      "metadata": {
        "colab": {
          "base_uri": "https://localhost:8080/"
        },
        "id": "Y-TWvy-Sj8SH",
        "outputId": "a367f1a0-1d9c-475e-a294-d666d91e4e6c"
      },
      "execution_count": 70,
      "outputs": [
        {
          "output_type": "stream",
          "name": "stdout",
          "text": [
            "HELLO, WORLD!\n"
          ]
        }
      ]
    },
    {
      "cell_type": "code",
      "source": [
        "a =\"Hello, World!\"\n",
        "print(a.lower())"
      ],
      "metadata": {
        "colab": {
          "base_uri": "https://localhost:8080/"
        },
        "id": "IEAAXRPoj--p",
        "outputId": "64849aa9-b1d8-496d-fd29-f82410c286d0"
      },
      "execution_count": 71,
      "outputs": [
        {
          "output_type": "stream",
          "name": "stdout",
          "text": [
            "hello, world!\n"
          ]
        }
      ]
    },
    {
      "cell_type": "code",
      "source": [
        "a = \"Hello, World!\"\n",
        "print(a.strip())"
      ],
      "metadata": {
        "colab": {
          "base_uri": "https://localhost:8080/"
        },
        "id": "1710J_JfkIq-",
        "outputId": "c357a679-f2d3-4885-eccd-dca1b7bce7ef"
      },
      "execution_count": 72,
      "outputs": [
        {
          "output_type": "stream",
          "name": "stdout",
          "text": [
            "Hello, World!\n"
          ]
        }
      ]
    },
    {
      "cell_type": "code",
      "source": [
        "a=\"Hello, World!\"\n",
        "print(a.replace(\"H\",\"J\"))"
      ],
      "metadata": {
        "colab": {
          "base_uri": "https://localhost:8080/"
        },
        "id": "6P_gr2EDkU1_",
        "outputId": "055c1869-bf0c-4cb3-f5d1-51c7f472d7ab"
      },
      "execution_count": 73,
      "outputs": [
        {
          "output_type": "stream",
          "name": "stdout",
          "text": [
            "Jello, World!\n"
          ]
        }
      ]
    },
    {
      "cell_type": "code",
      "source": [
        "a = \"Hello, World!\"\n",
        "print(a.split(\",\"))"
      ],
      "metadata": {
        "colab": {
          "base_uri": "https://localhost:8080/"
        },
        "id": "BFpjKAvckmYb",
        "outputId": "889bf6bc-95e3-4344-e0d4-50d59c4812ae"
      },
      "execution_count": 74,
      "outputs": [
        {
          "output_type": "stream",
          "name": "stdout",
          "text": [
            "['Hello', ' World!']\n"
          ]
        }
      ]
    },
    {
      "cell_type": "code",
      "source": [
        "a=\"Hello\"\n",
        "b=\"World\"\n",
        "c=a+\"\"+b\n",
        "print(c)"
      ],
      "metadata": {
        "colab": {
          "base_uri": "https://localhost:8080/"
        },
        "id": "p5gaSrkKk8_t",
        "outputId": "a4aedcd1-71a9-46de-ead3-5a23e3a052e4"
      },
      "execution_count": 75,
      "outputs": [
        {
          "output_type": "stream",
          "name": "stdout",
          "text": [
            "HelloWorld\n"
          ]
        }
      ]
    },
    {
      "cell_type": "code",
      "source": [
        "age=36\n",
        "txt=f\"my name is John, I an {age}\"\n",
        "print(txt)"
      ],
      "metadata": {
        "colab": {
          "base_uri": "https://localhost:8080/"
        },
        "id": "q5QnOxQKlOFp",
        "outputId": "a343460b-d9dc-4d32-bd69-6a14f41e64e4"
      },
      "execution_count": 76,
      "outputs": [
        {
          "output_type": "stream",
          "name": "stdout",
          "text": [
            "my name is John, I an 36\n"
          ]
        }
      ]
    },
    {
      "cell_type": "code",
      "source": [
        "price=59\n",
        "txt=f\"The price is{price:.2f}dollars\"\n",
        "print(txt)"
      ],
      "metadata": {
        "colab": {
          "base_uri": "https://localhost:8080/"
        },
        "id": "O4BpPOX9lYqU",
        "outputId": "48ff0bf0-ef01-451a-a6ff-06b69f05a64e"
      },
      "execution_count": 77,
      "outputs": [
        {
          "output_type": "stream",
          "name": "stdout",
          "text": [
            "The price is59.00dollars\n"
          ]
        }
      ]
    },
    {
      "cell_type": "code",
      "source": [
        "txt = \"We are the so-called \\\"Vikings\\\" from the north.\""
      ],
      "metadata": {
        "id": "G6DKr6mLllAU"
      },
      "execution_count": 78,
      "outputs": []
    },
    {
      "cell_type": "code",
      "source": [
        "print(10>9)\n",
        "print(10==9)\n",
        "print(10<9)"
      ],
      "metadata": {
        "colab": {
          "base_uri": "https://localhost:8080/"
        },
        "id": "pCr0iDA2mGH_",
        "outputId": "68a1e899-c0e6-43c8-e5ff-b746be2f4aef"
      },
      "execution_count": 79,
      "outputs": [
        {
          "output_type": "stream",
          "name": "stdout",
          "text": [
            "True\n",
            "False\n",
            "False\n"
          ]
        }
      ]
    },
    {
      "cell_type": "code",
      "source": [
        "'if 문에서 조건을 실행하면 Python은 True or를 반환합니다'\n",
        "a=200\n",
        "b=33\n",
        "if b>a:\n",
        "  print(\"b is greater than a\")\n",
        "else:\n",
        "  print(\"b is not greater tha a\")"
      ],
      "metadata": {
        "colab": {
          "base_uri": "https://localhost:8080/"
        },
        "id": "zqqqB0U0nSFH",
        "outputId": "574babe9-4dbd-46f0-9ecf-793febf58e1c"
      },
      "execution_count": 80,
      "outputs": [
        {
          "output_type": "stream",
          "name": "stdout",
          "text": [
            "b is not greater tha a\n"
          ]
        }
      ]
    },
    {
      "cell_type": "code",
      "source": [
        "' bool()기능을 사용하면 모든 값을 평가하고 True 그에 False 대한 대가를 받을 수 있습니다.'\n",
        "print(bool(\"hello\"))\n",
        "print(bool(15))"
      ],
      "metadata": {
        "colab": {
          "base_uri": "https://localhost:8080/"
        },
        "id": "oLWejCI5oCy1",
        "outputId": "33e8919f-cf05-4944-f5e2-6904d880f7e8"
      },
      "execution_count": 81,
      "outputs": [
        {
          "output_type": "stream",
          "name": "stdout",
          "text": [
            "True\n",
            "True\n"
          ]
        }
      ]
    },
    {
      "cell_type": "code",
      "source": [
        "'두 가지 변수를 평가합니다.'\n",
        "x=\"Hello\"\n",
        "y=15\n",
        "print(bool(x))\n",
        "print(bool(y))"
      ],
      "metadata": {
        "colab": {
          "base_uri": "https://localhost:8080/"
        },
        "id": "Ju6X0i3goQZd",
        "outputId": "5cc16d6c-4ff0-436e-ca76-44ae67af8b5b"
      },
      "execution_count": 82,
      "outputs": [
        {
          "output_type": "stream",
          "name": "stdout",
          "text": [
            "True\n",
            "True\n"
          ]
        }
      ]
    },
    {
      "cell_type": "code",
      "source": [
        "'다음은 True를 반환합니다.'\n",
        "bool(\"abc\")\n",
        "bool(123)\n",
        "bool([\"apple\", \"cherry\", \"banana\"])\n"
      ],
      "metadata": {
        "colab": {
          "base_uri": "https://localhost:8080/"
        },
        "id": "Mbtn_Xa5otuL",
        "outputId": "977a3879-ed95-4bf7-caca-96fc8b016910"
      },
      "execution_count": 83,
      "outputs": [
        {
          "output_type": "execute_result",
          "data": {
            "text/plain": [
              "True"
            ]
          },
          "metadata": {},
          "execution_count": 83
        }
      ]
    },
    {
      "cell_type": "code",
      "source": [
        "\n",
        "\n",
        "'다음은 False를 반환합니다.'\n",
        "bool(False)\n",
        "bool(None)\n",
        "bool(0)\n",
        "bool(\"\")\n",
        "bool(())\n",
        "bool([])\n",
        "bool({})"
      ],
      "metadata": {
        "colab": {
          "base_uri": "https://localhost:8080/"
        },
        "id": "0lxrA2Mioz1I",
        "outputId": "aedb2f70-4a72-4cc1-f227-43b0641dcb37"
      },
      "execution_count": 84,
      "outputs": [
        {
          "output_type": "execute_result",
          "data": {
            "text/plain": [
              "False"
            ]
          },
          "metadata": {},
          "execution_count": 84
        }
      ]
    },
    {
      "cell_type": "code",
      "source": [
        "class myclass():\n",
        "  def __len__(self):\n",
        "    return 0\n",
        "myobj =myclass()\n",
        "print(bool(myobj))"
      ],
      "metadata": {
        "colab": {
          "base_uri": "https://localhost:8080/"
        },
        "id": "UA9fFVMgpuRo",
        "outputId": "19e4cff8-8b4f-4c96-c0e3-09bc5207af2b"
      },
      "execution_count": 85,
      "outputs": [
        {
          "output_type": "stream",
          "name": "stdout",
          "text": [
            "False\n"
          ]
        }
      ]
    },
    {
      "cell_type": "code",
      "source": [
        "'부울 값을 반환하는 함수를 만들 수 있습니다.'\n",
        "def myFunction():\n",
        "  return True\n",
        "\n",
        "print(myFunction())"
      ],
      "metadata": {
        "colab": {
          "base_uri": "https://localhost:8080/"
        },
        "id": "-YjLoaGkqLVS",
        "outputId": "b9bffe3d-9373-4a7f-a173-f213e06d132e"
      },
      "execution_count": 86,
      "outputs": [
        {
          "output_type": "stream",
          "name": "stdout",
          "text": [
            "True\n"
          ]
        }
      ]
    },
    {
      "cell_type": "code",
      "source": [
        "'함수가 True를 반환하면 \"YES!\"를 출력하고, 그렇지 않으면 \"NO!\"를 출력합니다.'\n",
        "def myFunction():\n",
        "  return True\n",
        "if myFunction():\n",
        "  print(\"YES!\")\n",
        "else:\n",
        "  print(\"NO!\")"
      ],
      "metadata": {
        "colab": {
          "base_uri": "https://localhost:8080/"
        },
        "id": "3QeQIbUpqdFY",
        "outputId": "6253a920-b378-4e54-d8fa-ae1c5ae1fc9c"
      },
      "execution_count": 87,
      "outputs": [
        {
          "output_type": "stream",
          "name": "stdout",
          "text": [
            "YES!\n"
          ]
        }
      ]
    },
    {
      "cell_type": "code",
      "source": [
        "'Python에는 또한 객체가 특정 데이터 유형인지 확인하는 데 사용할 수 있는 함수와 같이 부울 값을 반환하는 많은 내장함수가 있습니다.'\n",
        "x=200\n",
        "print(isinstance(x, int))"
      ],
      "metadata": {
        "colab": {
          "base_uri": "https://localhost:8080/"
        },
        "id": "A_1camrpq_tO",
        "outputId": "ce9e5466-cff5-4d83-9965-7c784a1052a0"
      },
      "execution_count": 88,
      "outputs": [
        {
          "output_type": "stream",
          "name": "stdout",
          "text": [
            "True\n"
          ]
        }
      ]
    },
    {
      "cell_type": "code",
      "source": [
        "print(10+5)"
      ],
      "metadata": {
        "colab": {
          "base_uri": "https://localhost:8080/"
        },
        "id": "A0UHTDZFrV9u",
        "outputId": "fe604329-e580-4068-ba8f-ff06516367f2"
      },
      "execution_count": 89,
      "outputs": [
        {
          "output_type": "stream",
          "name": "stdout",
          "text": [
            "15\n"
          ]
        }
      ]
    },
    {
      "cell_type": "code",
      "source": [
        "#파이썬 산술 연산자\n",
        "#산술 연산자는 숫자 값과 함께 사용되어 일반적인 수학 연산을 수행합니다.#\n",
        "\n",
        "#Operator\t  Name\t      Example #\n",
        " # +\t       Addition\t      x + y #\n",
        "# -\t       Subtraction     \tx - y #\n",
        "#*\t      Multiplication   \tx * y\t#\n",
        "#/\t          Division\t    x / y\t#\n",
        "#%\t           Modulus\t    x % y\t#\n",
        "#**\t     Exponentiation \tx ** y\t#\n",
        "#//\t        Floor division\tx // y#\n"
      ],
      "metadata": {
        "id": "DzaB06vrrsqf"
      },
      "execution_count": 90,
      "outputs": []
    },
    {
      "cell_type": "code",
      "source": [
        "print((6 + 3) - (6 + 3))\n",
        "'괄호는 가장 높은 우선순위를 가지므로 괄호 안의 표현식이 먼저 평가되어야합니다.'"
      ],
      "metadata": {
        "colab": {
          "base_uri": "https://localhost:8080/",
          "height": 54
        },
        "id": "fBqLW8oqsYOB",
        "outputId": "46d58c4d-48f2-4219-9093-eea7e5e51bb4"
      },
      "execution_count": 91,
      "outputs": [
        {
          "output_type": "stream",
          "name": "stdout",
          "text": [
            "0\n"
          ]
        },
        {
          "output_type": "execute_result",
          "data": {
            "text/plain": [
              "'괄호는 가장 높은 우선순위를 가지므로 괄호 안의 표현식이 먼저 평가되어야합니다.'"
            ],
            "application/vnd.google.colaboratory.intrinsic+json": {
              "type": "string"
            }
          },
          "metadata": {},
          "execution_count": 91
        }
      ]
    },
    {
      "cell_type": "code",
      "source": [
        "'곱셈은 덧셈보다 우선순위가 높으므로 곱셈은 덧셈보다 먼저 평가됩니다.'\n",
        "print(100+5*3)"
      ],
      "metadata": {
        "colab": {
          "base_uri": "https://localhost:8080/"
        },
        "id": "hhFxMI2js6z9",
        "outputId": "ea60f54e-74ca-4b01-80c0-a9f7bc687efe"
      },
      "execution_count": 92,
      "outputs": [
        {
          "output_type": "stream",
          "name": "stdout",
          "text": [
            "115\n"
          ]
        }
      ]
    },
    {
      "cell_type": "code",
      "source": [
        "'덧셈과 뺄셈은 같은 우선순위를 가지므로 표현식은 왼쪽에서 오른쪽으로 평가됩니다.'\n",
        "print(5+4-7+3)"
      ],
      "metadata": {
        "colab": {
          "base_uri": "https://localhost:8080/"
        },
        "id": "ZuiiUw6_vfwF",
        "outputId": "4cad5a01-6473-4470-c45b-1a0f5dd01800"
      },
      "execution_count": 93,
      "outputs": [
        {
          "output_type": "stream",
          "name": "stdout",
          "text": [
            "5\n"
          ]
        }
      ]
    },
    {
      "cell_type": "code",
      "source": [
        "mylist = [\"apple\", \"banana\", \"cherry\"]"
      ],
      "metadata": {
        "id": "FYXhC0XCJ565"
      },
      "execution_count": 94,
      "outputs": []
    },
    {
      "cell_type": "code",
      "source": [
        "#목록 만들기#\n",
        "thislist = [\"apple\", \"banana\", \"cherry\"]\n",
        "print(thislist)"
      ],
      "metadata": {
        "colab": {
          "base_uri": "https://localhost:8080/"
        },
        "id": "WntozocLog8w",
        "outputId": "9f7c93a0-1028-45ec-a9a3-afc034540aed"
      },
      "execution_count": 95,
      "outputs": [
        {
          "output_type": "stream",
          "name": "stdout",
          "text": [
            "['apple', 'banana', 'cherry']\n"
          ]
        }
      ]
    },
    {
      "cell_type": "code",
      "source": [
        "#중복허용\n",
        "#예:목록에는 중복 값이 허용됩니다.\n",
        "thislist=[\"apple\", \"banana\", \"cherry\", \"apple\", \"banana\"]\n",
        "print(thislist)"
      ],
      "metadata": {
        "colab": {
          "base_uri": "https://localhost:8080/"
        },
        "id": "ZA2W_xl8ozZu",
        "outputId": "ca0cff6e-bee2-411e-c5ed-2b125c537350"
      },
      "execution_count": 96,
      "outputs": [
        {
          "output_type": "stream",
          "name": "stdout",
          "text": [
            "['apple', 'banana', 'cherry', 'apple', 'banana']\n"
          ]
        }
      ]
    },
    {
      "cell_type": "code",
      "source": [
        "#목록 길이: 목록에 항목이 몇 개 있는지 확인하려면 다음 #len()함수를 사용하세요\n",
        "thislist=[\"apple\", \"banana\", \"cherry\"]\n",
        "print(len(thislist))"
      ],
      "metadata": {
        "colab": {
          "base_uri": "https://localhost:8080/"
        },
        "id": "hVtYxBmMpGax",
        "outputId": "20c73e2a-6819-4a27-c773-171a32d16a64"
      },
      "execution_count": 97,
      "outputs": [
        {
          "output_type": "stream",
          "name": "stdout",
          "text": [
            "3\n"
          ]
        }
      ]
    },
    {
      "cell_type": "code",
      "source": [
        "#목록항목 - 데이터 유형\n",
        "#예: 문자열, 정수 및 부울 데이터 유형\n",
        "list1 = [\"apple\", \"banana\", \"cherry\"]\n",
        "lsit2 = [1,5, 7, 9, 3]\n",
        "lsit3=[True, False, False]\n"
      ],
      "metadata": {
        "id": "cH8H_OvupV8e"
      },
      "execution_count": 98,
      "outputs": []
    },
    {
      "cell_type": "code",
      "source": [
        "#유형() Python의 관점에서 볼 때 리스트는 'list'라는 데이터 유형을 가진 객체로 정의됩니다\n",
        "#예: 목록의 데이터 유형은 무엇입니까?\n",
        "mylist = [\"apple\", \"banana\", \"cherry\"]\n",
        "print(type(mylist))"
      ],
      "metadata": {
        "colab": {
          "base_uri": "https://localhost:8080/"
        },
        "id": "u0GlKeZgpu_v",
        "outputId": "f7a0648f-203d-46d9-8e46-a8bf5db4e699"
      },
      "execution_count": 99,
      "outputs": [
        {
          "output_type": "stream",
          "name": "stdout",
          "text": [
            "<class 'list'>\n"
          ]
        }
      ]
    },
    {
      "cell_type": "code",
      "source": [
        "#list 생성자: 새로운 목록을 생성할 떄 'list()' 생성자를 사용하는 것도 가능합니다.\n",
        "#예: 생성자를 사용하여 list()목록을 만듭니다.\n",
        "thislist=list((\"apple\", \"banana\", \"cherry\"))\n",
        "print(thislist)"
      ],
      "metadata": {
        "colab": {
          "base_uri": "https://localhost:8080/"
        },
        "id": "v0MQOwhyqH-9",
        "outputId": "6254ba05-90d1-45a5-ed1b-8cf8f50129b7"
      },
      "execution_count": 100,
      "outputs": [
        {
          "output_type": "stream",
          "name": "stdout",
          "text": [
            "['apple', 'banana', 'cherry']\n"
          ]
        }
      ]
    },
    {
      "cell_type": "code",
      "source": [
        "#파이썬 컬렉션(배열)\n",
        "#Python 프로그래밍 언어에는 4가지 컬렉션 데이터 유형이 있습니다.\n",
        "\n",
        "#목록은 정렬되고 변경 가능한 컬렉션입니다. 중복된 멤버를 허용합니다.\n",
        "#튜플은 순서가 있고 변경할 수 없는 컬렉션입니다. 중복된 멤버를 허용합니다.\n",
        "#집합은 순서가 없고, 변경 불가능하며, 인덱싱되지 않은 컬렉션입니다. 중복된 멤버가 없습니다.\n",
        "#사전은 정렬되고** 변경 가능한 컬렉션입니다. 중복된 멤버는 없습니다."
      ],
      "metadata": {
        "id": "IqAvcLoxqizD"
      },
      "execution_count": 101,
      "outputs": []
    },
    {
      "cell_type": "code",
      "source": [
        "#액세스 항목: 목록 항목에는 인덱싱이 되어 있으며, 인덱스 번호를 참조하여 액세스할 수 있습니다.\n",
        "thislist =[\"apple\", \"banana\", \"cherry\"]\n",
        "print(thislist[1])\n",
        "#참고: 첫번째 항목의 인덱스는 0입니다."
      ],
      "metadata": {
        "colab": {
          "base_uri": "https://localhost:8080/"
        },
        "id": "7Rflc7vLrU2C",
        "outputId": "05f05695-6858-42f1-cd48-f8d969c4131a"
      },
      "execution_count": 102,
      "outputs": [
        {
          "output_type": "stream",
          "name": "stdout",
          "text": [
            "banana\n"
          ]
        }
      ]
    },
    {
      "cell_type": "code",
      "source": [
        "#음수 인덱싱:음수 인덱싱은 끝에서부터 시작한다는 의미입니다\n",
        "#참고: -1은 마지막 항목 -2는 뒤에서 두번째\n",
        "thislist =[\"apple\", \"banana\", \"cherry\"]\n",
        "print(thislist[-1])"
      ],
      "metadata": {
        "colab": {
          "base_uri": "https://localhost:8080/"
        },
        "id": "CsvG_JJvrru4",
        "outputId": "4b06d706-3508-4c5e-a408-a1f57936cbb0"
      },
      "execution_count": 103,
      "outputs": [
        {
          "output_type": "stream",
          "name": "stdout",
          "text": [
            "cherry\n"
          ]
        }
      ]
    },
    {
      "cell_type": "code",
      "source": [
        "#인덱스 범위: 범위의 시작점과 끝점을 지정하여 인덱스 범위를 지정할 수 있습니다.\n",
        "#범위를 지정하면 반환 값은 지정된 항목이 포함한 새 목록이 됩니다.\n",
        "thislist=[\"apple\", \"banana\", \"cherry\", \"orange\", \"kiwi\", \"melon\", \"mango\"]\n",
        "print(thislist[2:5])"
      ],
      "metadata": {
        "colab": {
          "base_uri": "https://localhost:8080/"
        },
        "id": "x05yrrTKsK3X",
        "outputId": "392dcb03-af05-4bf5-e916-c22eefb04d69"
      },
      "execution_count": 104,
      "outputs": [
        {
          "output_type": "stream",
          "name": "stdout",
          "text": [
            "['cherry', 'orange', 'kiwi']\n"
          ]
        }
      ]
    },
    {
      "cell_type": "code",
      "source": [
        "#시작 값을 생략하면 범위는 첫 번쨰 항목에서 시작됩니다\n",
        "thislist=[\"apple\", \"banana\", \"cherry\", \"orange\", \"kiwi\", \"melon\", \"mango\"]\n",
        "print(thislist[:4])"
      ],
      "metadata": {
        "colab": {
          "base_uri": "https://localhost:8080/"
        },
        "id": "7SbM4z8ysqDE",
        "outputId": "33e6f574-b5a0-4eff-b9ae-ff369200306b"
      },
      "execution_count": 105,
      "outputs": [
        {
          "output_type": "stream",
          "name": "stdout",
          "text": [
            "['apple', 'banana', 'cherry', 'orange']\n"
          ]
        }
      ]
    },
    {
      "cell_type": "code",
      "source": [
        "#끝 값을 생략하면 범위가 목록의 끝까지 계속됩니다.\n",
        "thislist=[\"apple\", \"banana\", \"cherry\", \"orange\", \"kiwi\", \"melon\", \"mango\"]\n",
        "print(thislist[2:])"
      ],
      "metadata": {
        "colab": {
          "base_uri": "https://localhost:8080/"
        },
        "id": "RA6wMbLus-XR",
        "outputId": "dccde29f-e439-4368-996b-7f535e56279a"
      },
      "execution_count": 106,
      "outputs": [
        {
          "output_type": "stream",
          "name": "stdout",
          "text": [
            "['cherry', 'orange', 'kiwi', 'melon', 'mango']\n"
          ]
        }
      ]
    },
    {
      "cell_type": "code",
      "source": [
        "#음수 지수범위: 목록 끝에서 검색을 시작하려면 음수 인덱스를 지정하세요\n",
        "thislist=[\"apple\", \"banana\", \"cherry\", \"orange\", \"kiwi\", \"melon\", \"mango\"]\n",
        "print(thislist[-4:-1])"
      ],
      "metadata": {
        "colab": {
          "base_uri": "https://localhost:8080/"
        },
        "id": "pA3dsLAatLSA",
        "outputId": "61399775-c190-49f3-d839-6f606d0bf4ac"
      },
      "execution_count": 107,
      "outputs": [
        {
          "output_type": "stream",
          "name": "stdout",
          "text": [
            "['orange', 'kiwi', 'melon']\n"
          ]
        }
      ]
    },
    {
      "cell_type": "code",
      "source": [
        "#항목이 있는지 확인: 지정된 항목이 목록에 있는지 확인하려면 다음'in' 키워드를 사용하세요\n",
        "thislist=[\"apple\", \"banana\", \"cherry\"]\n",
        "if \"apple\" in thislist:\n",
        "  print(\"Yes, 'apple' is in the fruits list\")"
      ],
      "metadata": {
        "colab": {
          "base_uri": "https://localhost:8080/"
        },
        "id": "W9XVvuSRtbeQ",
        "outputId": "752a0142-a096-47a3-e717-115b2d8a0919"
      },
      "execution_count": 108,
      "outputs": [
        {
          "output_type": "stream",
          "name": "stdout",
          "text": [
            "Yes, 'apple' is in the fruits list\n"
          ]
        }
      ]
    },
    {
      "cell_type": "code",
      "source": [
        "# 나이와 점수 설정\n",
        "age = 19\n",
        "score = 70\n",
        "\n",
        "# 조건문으로 판단\n",
        "if age >= 18:\n",
        "    # 성인이면 점수를 확인\n",
        "    if score >= 80:\n",
        "        print(\"합격\")\n",
        "    else:\n",
        "        print(\"불합격\")\n",
        "else:\n",
        "    # 나이가 18세 미만이면 미성년자\n",
        "    print(\"미성년자\")"
      ],
      "metadata": {
        "colab": {
          "base_uri": "https://localhost:8080/"
        },
        "id": "jos6q6RhtwnT",
        "outputId": "e72db243-0c71-4e7a-8bfd-5ac72e21f9dc"
      },
      "execution_count": 109,
      "outputs": [
        {
          "output_type": "stream",
          "name": "stdout",
          "text": [
            "불합격\n"
          ]
        }
      ]
    },
    {
      "cell_type": "code",
      "source": [
        "heights = [160, 170, 180, 175, 165]\n",
        "\n",
        "total = 0\n",
        "for height in heights:\n",
        "    total += height\n",
        "\n",
        "\n",
        "average = total / len(heights)\n",
        "\n",
        "print(\"총합:\", total)\n",
        "print(\"평균 키:\", average)"
      ],
      "metadata": {
        "colab": {
          "base_uri": "https://localhost:8080/"
        },
        "id": "dhYjzdE_wF1N",
        "outputId": "438a824e-80cc-4126-dc88-4e22b0902c2f"
      },
      "execution_count": 110,
      "outputs": [
        {
          "output_type": "stream",
          "name": "stdout",
          "text": [
            "총합: 850\n",
            "평균 키: 170.0\n"
          ]
        }
      ]
    },
    {
      "cell_type": "markdown",
      "source": [
        "list와 if문을 사용하여 만들 수 있는 키 평균 구하고 조건에 따라 인원 수 구분하는 코드\n"
      ],
      "metadata": {
        "id": "SuNjXqvV0ULY"
      }
    },
    {
      "cell_type": "code",
      "source": [
        "#키 리스트\n",
        "heights = [160, 170, 180, 175, 165]\n",
        "\n",
        "#키 총합 변수 선언\n",
        "total = 0\n",
        "\n",
        "# 조건별 카운팅 변수 선언\n",
        "count_under_or_equal_170 = 0\n",
        "count_over_170 = 0\n",
        "\n",
        "#반복문을 이용하여 총합 및 조건에 맞는 인원 계산\n",
        "for height in heights:\n",
        "    total += height\n",
        "    if height <= 170:\n",
        "        count_under_or_equal_170 += 1\n",
        "    else:\n",
        "        count_over_170 += 1\n",
        "\n",
        "#평균 계산\n",
        "average = total / len(heights)\n",
        "\n",
        "#출력\n",
        "print(\"총합:\", total)\n",
        "print(\"평균 키:\", average)\n",
        "print(\"170cm 이하인 사람 수:\", count_under_or_equal_170)\n",
        "print(\"170cm 초과인 사람 수:\", count_over_170)\n",
        "\n",
        "# 다른 코드\n",
        "\n",
        "h1=160\n",
        "\n",
        "h2=165\n",
        "\n",
        "h3=170\n",
        "\n",
        "h4=175\n",
        "\n",
        "h5=180\n",
        "\n",
        "avg=(h1+ h2+ h3 + h4 + h5) / 5\n",
        "\n",
        "print(avg)"
      ],
      "metadata": {
        "colab": {
          "base_uri": "https://localhost:8080/"
        },
        "id": "Mm6DlvaXyNc6",
        "outputId": "2882b52e-1ad1-46cd-c5cc-1d0e0e9e0423"
      },
      "execution_count": 111,
      "outputs": [
        {
          "output_type": "stream",
          "name": "stdout",
          "text": [
            "총합: 850\n",
            "평균 키: 170.0\n",
            "170cm 이하인 사람 수: 3\n",
            "170cm 초과인 사람 수: 2\n",
            "170.0\n"
          ]
        }
      ]
    },
    {
      "cell_type": "markdown",
      "source": [
        "if문을 사용하여 자율주행 기술에 적용할 수 있는 코드1"
      ],
      "metadata": {
        "id": "TU2_er_x19pX"
      }
    },
    {
      "cell_type": "code",
      "source": [
        "# 센서로부터 입력 받은 장애물까지의 거리 (단위: 미터)\n",
        "distance = 5  # 예: 5미터 앞에 장애물 있음\n",
        "\n",
        "# 속도 제어 조건 (if문만 사용)\n",
        "if distance < 3:\n",
        "    print(\"🔴 장애물이 가까움: 즉시 정지!\")\n",
        "elif distance < 7:\n",
        "    print(\"🟡 장애물 감지됨: 속도 줄이기\")\n",
        "else:\n",
        "    print(\"🟢 도로 안전: 정상 속도로 주행\")"
      ],
      "metadata": {
        "colab": {
          "base_uri": "https://localhost:8080/"
        },
        "id": "omGQ2fHGzk0k",
        "outputId": "c8d7422d-e19e-4adf-e439-27ff95a60cd5"
      },
      "execution_count": 112,
      "outputs": [
        {
          "output_type": "stream",
          "name": "stdout",
          "text": [
            "🟡 장애물 감지됨: 속도 줄이기\n"
          ]
        }
      ]
    },
    {
      "cell_type": "markdown",
      "source": [
        "if문을 사용하여 자율주행 기술에 적용할 수 있는 코드2"
      ],
      "metadata": {
        "id": "fS1a-dcP26pP"
      }
    },
    {
      "cell_type": "code",
      "source": [
        "# 감지된 신호등 색상 (예: \"red\", \"yellow\", \"green\")\n",
        "traffic_light = \"red\"\n",
        "\n",
        "# 신호등에 따른 차량 행동 결정\n",
        "if traffic_light == \"red\":\n",
        "    print(\"🔴 빨간불: 정지하세요.\")\n",
        "elif traffic_light == \"yellow\":\n",
        "    print(\"🟡 노란불: 감속 및 정지 준비.\")\n",
        "elif traffic_light == \"green\":\n",
        "    print(\"🟢 초록불: 주행하세요.\")\n",
        "else:\n",
        "    print(\"⚠️ 신호등 인식 실패: 안전 정지 또는 수동 제어 필요.\")"
      ],
      "metadata": {
        "colab": {
          "base_uri": "https://localhost:8080/"
        },
        "id": "ehA61SqC2HWf",
        "outputId": "ba89b7a3-f2e1-484a-e8ab-68feb521b0bc"
      },
      "execution_count": 113,
      "outputs": [
        {
          "output_type": "stream",
          "name": "stdout",
          "text": [
            "🔴 빨간불: 정지하세요.\n"
          ]
        }
      ]
    },
    {
      "cell_type": "markdown",
      "source": [
        "if문을 사용하여 자율주행 기술에 적용할 수 있는 코드3"
      ],
      "metadata": {
        "id": "c-ErtXVq3QJ4"
      }
    },
    {
      "cell_type": "code",
      "source": [
        "# 차량의 진행 방향 (left, right, straight 중 하나)\n",
        "direction = \"left\"\n",
        "\n",
        "# 교차로에 신호등이 있는가?\n",
        "has_traffic_light = True\n",
        "\n",
        "# 교차로에 다른 차량이 있는가?\n",
        "other_vehicle_present = True\n",
        "\n",
        "# 교차로 판단 로직\n",
        "if has_traffic_light:\n",
        "    if direction == \"left\":\n",
        "        if other_vehicle_present:\n",
        "            print(\"🔺 좌회전: 상대 차량 지나갈 때까지 대기하세요.\")\n",
        "        else:\n",
        "            print(\"⬅️ 좌회전: 좌회전하세요.\")\n",
        "    elif direction == \"right\":\n",
        "        print(\"➡️ 우회전: 신호 확인 후 진행하세요.\")\n",
        "    elif direction == \"straight\":\n",
        "        if other_vehicle_present:\n",
        "            print(\"⬆️ 직진: 전방 차량 대기 중, 멈추세요.\")\n",
        "        else:\n",
        "            print(\"⬆️ 직진: 진행하세요.\")\n",
        "    else:\n",
        "        print(\"⚠️ 알 수 없는 방향입니다.\")\n",
        "else:\n",
        "    print(\"⚠️ 신호등 없음: 비신호 교차로. 1. 정지선 정지 2. 좌우 확인 후 진행.\")"
      ],
      "metadata": {
        "colab": {
          "base_uri": "https://localhost:8080/"
        },
        "id": "D-SEvkJO3P5Z",
        "outputId": "e597999b-78df-4b80-d922-6c6c23e47f67"
      },
      "execution_count": 114,
      "outputs": [
        {
          "output_type": "stream",
          "name": "stdout",
          "text": [
            "🔺 좌회전: 상대 차량 지나갈 때까지 대기하세요.\n"
          ]
        }
      ]
    },
    {
      "cell_type": "markdown",
      "source": [
        "if문을 사용하여 자율주행 기술에 적용할 수 있는 코드4"
      ],
      "metadata": {
        "id": "vG9E06i33fO_"
      }
    },
    {
      "cell_type": "code",
      "source": [
        "# 현재 차량 속도 (km/h)\n",
        "current_speed = 85\n",
        "\n",
        "# 해당 도로의 제한 속도 (km/h)\n",
        "limit_speed = 80\n",
        "\n",
        "# 제한속도 판단 로직\n",
        "if current_speed > limit_speed + 10:\n",
        "    print(\"🚨 제한속도보다 10km/h 초과: 즉시 감속하세요! (과속 위험)\")\n",
        "elif current_speed > limit_speed:\n",
        "    print(\"⚠️ 제한속도 초과: 속도 줄이세요.\")\n",
        "elif current_speed == limit_speed:\n",
        "    print(\"✅ 제한속도에 맞춰 주행 중입니다.\")\n",
        "else:\n",
        "    print(\"🟢 제한속도 이하: 안전 주행 중입니다.\")"
      ],
      "metadata": {
        "colab": {
          "base_uri": "https://localhost:8080/"
        },
        "id": "gdgbHjQJ3dqK",
        "outputId": "ccb3d263-11ee-41e2-d68b-6e05e8236c69"
      },
      "execution_count": 115,
      "outputs": [
        {
          "output_type": "stream",
          "name": "stdout",
          "text": [
            "⚠️ 제한속도 초과: 속도 줄이세요.\n"
          ]
        }
      ]
    },
    {
      "cell_type": "markdown",
      "source": [
        "if문을 사용하여 자율주행 기술에 적용할 수 있는 코드5"
      ],
      "metadata": {
        "id": "vXWlzcQW3dYW"
      }
    },
    {
      "cell_type": "code",
      "source": [
        "# 차량이 차선 중앙에서 얼마나 벗어났는지를 나타내는 값 (단위: 미터)\n",
        "# 음수 = 왼쪽으로 치우침, 양수 = 오른쪽으로 치우침\n",
        "lane_offset = -0.8  # 예: 왼쪽으로 0.8m 벗어남\n",
        "\n",
        "# 차선 이탈 허용 범위 (보통 ±0.5m 정도)\n",
        "safe_offset = 0.5\n",
        "\n",
        "# 차선 이탈 판단\n",
        "if lane_offset < -safe_offset:\n",
        "    print(\"⬅️ 왼쪽 차선 이탈 감지: 오른쪽으로 조향하세요.\")\n",
        "elif lane_offset > safe_offset:\n",
        "    print(\"➡️ 오른쪽 차선 이탈 감지: 왼쪽으로 조향하세요.\")\n",
        "else:\n",
        "    print(\"✅ 차선 유지 중: 안전 주행\")"
      ],
      "metadata": {
        "colab": {
          "base_uri": "https://localhost:8080/"
        },
        "id": "M18S9dRw3iU6",
        "outputId": "c2e57ee5-2925-445b-bb73-e723154d2802"
      },
      "execution_count": 116,
      "outputs": [
        {
          "output_type": "stream",
          "name": "stdout",
          "text": [
            "⬅️ 왼쪽 차선 이탈 감지: 오른쪽으로 조향하세요.\n"
          ]
        }
      ]
    }
  ]
}